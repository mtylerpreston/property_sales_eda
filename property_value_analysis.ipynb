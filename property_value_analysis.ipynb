{
 "cells": [
  {
   "cell_type": "code",
   "execution_count": 5,
   "metadata": {},
   "outputs": [],
   "source": [
    "import os\n",
    "import json\n",
    "from bs4 import BeautifulSoup\n",
    "import matplotlib.pyplot as plt\n",
    "from selenium import webdriver\n",
    "from selenium.webdriver.common.keys import Keys\n",
    "from selenium.webdriver.common.action_chains import ActionChains\n",
    "import time\n",
    "import sys\n",
    "import numpy as np\n",
    "import pandas as pd\n",
    "import random\n",
    "import http.client"
   ]
  },
  {
   "cell_type": "markdown",
   "metadata": {},
   "source": [
    "# Picking up where SQL left off - Cleaning BV Data in Pandas\n",
    "Read in the raw data to a dataframe from a csv"
   ]
  },
  {
   "cell_type": "code",
   "execution_count": 50,
   "metadata": {},
   "outputs": [
    {
     "name": "stdout",
     "output_type": "stream",
     "text": [
      "<class 'pandas.core.frame.DataFrame'>\n",
      "RangeIndex: 86713 entries, 0 to 86712\n",
      "Data columns (total 10 columns):\n",
      "property_id        86713 non-null int64\n",
      "roof_data_date     86713 non-null object\n",
      "street             85615 non-null object\n",
      "city               85543 non-null object\n",
      "state              85626 non-null object\n",
      "zip                85538 non-null object\n",
      "full_address       85621 non-null object\n",
      "visual_score       86712 non-null float64\n",
      "detection_types    86713 non-null object\n",
      "detections         86713 non-null object\n",
      "dtypes: float64(1), int64(1), object(8)\n",
      "memory usage: 6.6+ MB\n"
     ]
    }
   ],
   "source": [
    "# Currently \n",
    "bv_data = pd.read_csv('bv_property_features.csv')\n",
    "bv_data.info()"
   ]
  },
  {
   "cell_type": "markdown",
   "metadata": {},
   "source": [
    "Clean data by dropping rows with duplicate addresses. The oldest record is being kept to give us the best chance of obtaining a relevant sale record."
   ]
  },
  {
   "cell_type": "code",
   "execution_count": 53,
   "metadata": {},
   "outputs": [
    {
     "name": "stdout",
     "output_type": "stream",
     "text": [
      "<class 'pandas.core.frame.DataFrame'>\n",
      "RangeIndex: 72852 entries, 0 to 72851\n",
      "Data columns (total 10 columns):\n",
      "property_id        72852 non-null int64\n",
      "roof_data_date     72852 non-null object\n",
      "street             72842 non-null object\n",
      "city               72777 non-null object\n",
      "state              72851 non-null object\n",
      "zip                72780 non-null object\n",
      "full_address       72851 non-null object\n",
      "visual_score       72851 non-null float64\n",
      "detection_types    72852 non-null object\n",
      "detections         72852 non-null object\n",
      "dtypes: float64(1), int64(1), object(8)\n",
      "memory usage: 5.6+ MB\n"
     ]
    }
   ],
   "source": [
    "bv_data.sort_values('roof_data_date', ascending = True, inplace = True)\n",
    "bv_data.drop_duplicates(subset = 'full_address', keep = 'first', inplace = True)\n",
    "bv_data.reset_index(inplace = True, drop = True)\n",
    "bv_data.info()"
   ]
  },
  {
   "cell_type": "markdown",
   "metadata": {},
   "source": [
    "Still have some empty cells, so dropping rows with missing address data. If we don't have working address data, we can't retrieve the key feature and target data for the property."
   ]
  },
  {
   "cell_type": "code",
   "execution_count": 55,
   "metadata": {},
   "outputs": [
    {
     "name": "stdout",
     "output_type": "stream",
     "text": [
      "<class 'pandas.core.frame.DataFrame'>\n",
      "Int64Index: 72698 entries, 0 to 72851\n",
      "Data columns (total 10 columns):\n",
      "property_id        72698 non-null int64\n",
      "roof_data_date     72698 non-null object\n",
      "street             72698 non-null object\n",
      "city               72698 non-null object\n",
      "state              72698 non-null object\n",
      "zip                72698 non-null object\n",
      "full_address       72698 non-null object\n",
      "visual_score       72698 non-null float64\n",
      "detection_types    72698 non-null object\n",
      "detections         72698 non-null object\n",
      "dtypes: float64(1), int64(1), object(8)\n",
      "memory usage: 6.1+ MB\n"
     ]
    }
   ],
   "source": [
    "bv_data.dropna(axis=0, how='any', inplace=True)\n",
    "bv_data.info()"
   ]
  },
  {
   "cell_type": "markdown",
   "metadata": {},
   "source": [
    "Additional unpacking and cleaning of the roof condition labels will be needed; however, that is being skipped at this time while other aspects of the project are explored to assess viability."
   ]
  },
  {
   "cell_type": "code",
   "execution_count": 57,
   "metadata": {},
   "outputs": [
    {
     "name": "stdout",
     "output_type": "stream",
     "text": [
      "The Visual Score for these properties is distributed as follows:\n"
     ]
    },
    {
     "data": {
      "text/plain": [
       "count    72698.000000\n",
       "mean        82.138920\n",
       "std         20.244598\n",
       "min          0.045324\n",
       "25%         71.877930\n",
       "50%         89.584066\n",
       "75%         98.376623\n",
       "max         99.715704\n",
       "Name: visual_score, dtype: float64"
      ]
     },
     "execution_count": 57,
     "metadata": {},
     "output_type": "execute_result"
    }
   ],
   "source": [
    "print('The Visual Score for these properties is distributed as follows:')\n",
    "bv_data.visual_score.describe()"
   ]
  },
  {
   "cell_type": "code",
   "execution_count": 58,
   "metadata": {},
   "outputs": [
    {
     "data": {
      "text/plain": [
       "Text(0.5,1,'Visual Score Histogram')"
      ]
     },
     "execution_count": 58,
     "metadata": {},
     "output_type": "execute_result"
    },
    {
     "data": {
      "image/png": "[encoded data removed]",
      "text/plain": [
       "<Figure size 432x288 with 1 Axes>"
      ]
     },
     "metadata": {
      "needs_background": "light"
     },
     "output_type": "display_data"
    }
   ],
   "source": [
    "ax = bv_data.visual_score.hist(bins = 20, xlabelsize = 14, ylabelsize = 14)\n",
    "ax.set_xlabel('Visual Score Bin', fontsize = 14)\n",
    "ax.set_ylabel('Log of Number of Observations', fontsize = 14)\n",
    "ax.set_title('Visual Score Histogram', fontsize = 20)"
   ]
  },
  {
   "cell_type": "code",
   "execution_count": 59,
   "metadata": {},
   "outputs": [
    {
     "data": {
      "text/plain": [
       "Text(0.5,1,'Visual Score Histogram with Log Scale')"
      ]
     },
     "execution_count": 59,
     "metadata": {},
     "output_type": "execute_result"
    },
    {
     "data": {
      "image/png": "[encoded data removed]",
      "text/plain": [
       "<Figure size 432x288 with 1 Axes>"
      ]
     },
     "metadata": {
      "needs_background": "light"
     },
     "output_type": "display_data"
    }
   ],
   "source": [
    "ax = bv_data.visual_score.hist(bins = 20, log = True, xlabelsize = 14, ylabelsize = 14)\n",
    "ax.set_xlabel('Visual Score Bin', fontsize = 14)\n",
    "ax.set_ylabel('Log of Number of Observations', fontsize = 14)\n",
    "ax.set_title('Visual Score Histogram with Log Scale', fontsize = 20)"
   ]
  },
  {
   "cell_type": "code",
   "execution_count": 66,
   "metadata": {},
   "outputs": [],
   "source": [
    "# Take a small sample for testing\n",
    "bv_data_test = bv_data.iloc[:10, :]"
   ]
  },
  {
   "cell_type": "markdown",
   "metadata": {},
   "source": [
    "## Scalable Scraping of Real Estate Page for Historical Estimate Data\n",
    "We start proving our concept by providing a short list of properties for our script to scrape:"
   ]
  },
  {
   "cell_type": "markdown",
   "metadata": {},
   "source": [
    "First we must set up our web driver so that we can automate the navigation and data entry  for our scraping script."
   ]
  },
  {
   "cell_type": "code",
   "execution_count": 62,
   "metadata": {},
   "outputs": [],
   "source": [
    "chromedriver = \"/Users/tylerpreston/bin/chromedriver\"  # path to the chromedriver executable\n",
    "chromedriver = os.path.expanduser(chromedriver)\n",
    "sys.path.append(chromedriver)\n",
    "driver = webdriver.Chrome(chromedriver)"
   ]
  },
  {
   "cell_type": "markdown",
   "metadata": {},
   "source": [
    "Then tell it where to go"
   ]
  },
  {
   "cell_type": "code",
   "execution_count": 63,
   "metadata": {},
   "outputs": [],
   "source": [
    "url = 'https://realtor.com'\n",
    "driver.get(url)"
   ]
  },
  {
   "cell_type": "markdown",
   "metadata": {},
   "source": [
    "Find the element that we are interested in"
   ]
  },
  {
   "cell_type": "code",
   "execution_count": 65,
   "metadata": {},
   "outputs": [],
   "source": [
    "element = driver.find_element_by_id('rdc-main-search-nav-hero-input')"
   ]
  },
  {
   "cell_type": "markdown",
   "metadata": {},
   "source": [
    "Type the first address from our test sample. Include short, exponentially distributed delays between key strokes to seem more human."
   ]
  },
  {
   "cell_type": "code",
   "execution_count": 67,
   "metadata": {},
   "outputs": [],
   "source": [
    "search_string = bv_data_test.full_address[0].lower()"
   ]
  },
  {
   "cell_type": "code",
   "execution_count": 68,
   "metadata": {},
   "outputs": [],
   "source": [
    "for letter in search_string:\n",
    "    element.send_keys(letter)\n",
    "    time.sleep(np.random.exponential() * .12)\n",
    "element.send_keys(Keys.RETURN)"
   ]
  },
  {
   "cell_type": "markdown",
   "metadata": {},
   "source": [
    "Pull page_source data with Beautiful Soup and save all scripts (there are a lot of scripts and the one we are interested in may not show up right away)"
   ]
  },
  {
   "cell_type": "code",
   "execution_count": 69,
   "metadata": {},
   "outputs": [],
   "source": [
    "soup = BeautifulSoup(driver.page_source, 'html.parser')\n",
    "scripts = soup.find_all(\"script\")"
   ]
  },
  {
   "cell_type": "markdown",
   "metadata": {},
   "source": [
    "Scripts are not organized/structured, so we manually search them for the desired data"
   ]
  },
  {
   "cell_type": "code",
   "execution_count": 70,
   "metadata": {},
   "outputs": [],
   "source": [
    "estimate_dictionary = {}\n",
    "for script in scripts:\n",
    "    script = str(script)\n",
    "    if 'avm_trend' in script:\n",
    "        index = script.find('avm_trend')\n",
    "        script = script[index: len(script)]\n",
    "        start_index = script.find('{')\n",
    "        stop_index = script.find('}') + 1\n",
    "        estimate_dictionary[search_string] = json.loads(script[start_index:stop_index])['history']"
   ]
  },
  {
   "cell_type": "markdown",
   "metadata": {},
   "source": [
    "Navigate back to the home page. This isn't actually working in my Python script. Not sure why. But just telling it get realtor.com works."
   ]
  },
  {
   "cell_type": "code",
   "execution_count": 80,
   "metadata": {},
   "outputs": [],
   "source": [
    "driver.back()"
   ]
  },
  {
   "cell_type": "markdown",
   "metadata": {},
   "source": [
    "Find the search input bar again, but this time we need to clear the text from our previous address."
   ]
  },
  {
   "cell_type": "code",
   "execution_count": 76,
   "metadata": {},
   "outputs": [],
   "source": [
    "element = driver.find_element_by_id('rdc-main-search-nav-hero-input')\n",
    "element.clear()"
   ]
  },
  {
   "cell_type": "markdown",
   "metadata": {},
   "source": [
    "Do it again with the next address, and so on"
   ]
  },
  {
   "cell_type": "code",
   "execution_count": 77,
   "metadata": {},
   "outputs": [],
   "source": [
    "search_string = bv_data_test.full_address[1].lower()\n",
    "\n",
    "for letter in search_string:\n",
    "    element.send_keys(letter)\n",
    "    time.sleep(np.random.exponential() * .2)\n",
    "time.sleep(np.random.exponential() * .6)\n",
    "element.send_keys(Keys.RETURN)"
   ]
  },
  {
   "cell_type": "markdown",
   "metadata": {},
   "source": [
    "Check out the end product if you want"
   ]
  },
  {
   "cell_type": "code",
   "execution_count": null,
   "metadata": {},
   "outputs": [],
   "source": [
    "estimate_dictionary"
   ]
  },
  {
   "cell_type": "markdown",
   "metadata": {},
   "source": [
    "Close the driver when finished"
   ]
  },
  {
   "cell_type": "code",
   "execution_count": 81,
   "metadata": {},
   "outputs": [],
   "source": [
    "driver.close()"
   ]
  },
  {
   "cell_type": "markdown",
   "metadata": {},
   "source": [
    "# Attom API for Easy Sales History"
   ]
  },
  {
   "cell_type": "code",
   "execution_count": 293,
   "metadata": {},
   "outputs": [],
   "source": [
    "def get_property_detail(street, city, state, postal, key):\n",
    "    address1 = ('%20').join(street.split())\n",
    "    address2 = ('%20').join([city, state, postal])\n",
    "    end_url = '/propertyapi/v1.0.0/property/detail?address1='\\\n",
    "        + address1 + \"&address2=\" + address2\n",
    "\n",
    "    conn.request(\"GET\", end_url, headers=headers)\n",
    "\n",
    "    res = conn.getresponse()\n",
    "    data = json.loads(res.read().decode('utf-8'))\n",
    "    return data\n",
    "\n",
    "\n",
    "def get_sales_history_by_address(street, city, state, postal, key):\n",
    "    address1 = ('%20').join(street.split())\n",
    "    address2 = ('%20').join((city + ' ' + state + ' ' + postal).split())\n",
    "    end_url = '/propertyapi/v1.0.0/saleshistory/detail?address1='\\\n",
    "        + address1 + \"&address2=\" + address2\n",
    "\n",
    "    conn.request(\"GET\", end_url, headers=headers)\n",
    "\n",
    "    res = conn.getresponse()\n",
    "    sales_data = json.loads(res.read().decode('utf-8'))\n",
    "    \n",
    "    if sales_data['status']['code'] == 0:\n",
    "        sales_data = sales_data['property'][0]['salehistory']\n",
    "    else:\n",
    "        sales_data = []\n",
    "    return sales_data\n",
    "\n",
    "\n",
    "def get_relevant_sale(sales_data, date):\n",
    "    for sale in sales_data:\n",
    "        try:\n",
    "            sale_date = date_to_epoch(sale['amount']['salerecdate'])\n",
    "        except:\n",
    "            try:\n",
    "                sale_date = date_to_epoch(sale['saleTransDate'])\n",
    "            except:\n",
    "                continue\n",
    "        sale_amount = sale['amount']['saleamt']\n",
    "        if sale_date > date and sale_amount > 0:\n",
    "            return (sale_date, sale_amount)\n",
    "    return ('null', 'null')\n",
    "\n",
    "def date_to_epoch(date):\n",
    "    if len(date) < 11:\n",
    "        pattern = '%Y-%m-%d'\n",
    "    else:\n",
    "        date = date[0:10]\n",
    "        pattern = '%Y-%m-%d'\n",
    "    return int(time.mktime(time.strptime(date, pattern)))\n",
    "\n",
    "def append_portfolio_sales_history(df):\n",
    "    # Set up connection to the Attom API\n",
    "    conn = http.client.HTTPSConnection(\"search.onboard-apis.com\")\n",
    "\n",
    "    headers = {\n",
    "        'accept': \"application/json\",\n",
    "        'apikey': key\n",
    "    }\n",
    "    \n",
    "    # Iterate through rows of Betterview data to append relevant sales data\n",
    "    relevant_sale_dates = []\n",
    "    relevant_sale_amounts = []\n",
    "    for label, row in df.iterrows():\n",
    "        street, city, state, postal = row.street, row.city, row.state, row.zip\n",
    "        date = date_to_epoch(row.roof_data_date)\n",
    "        sales_data = get_sales_history_by_address(street, city, state, postal, key)\n",
    "        relevant_sale = get_relevant_sale(sales_data, date)\n",
    "        relevant_sale_dates.append(relevant_sale[0])\n",
    "        relevant_sale_amounts.append(relevant_sale[1])\n",
    "        time.sleep(.2)\n",
    "   \n",
    "    conn.close()    \n",
    "        \n",
    "    df['relevant_sale_date'] = pd.Series(relevant_sale_dates)\n",
    "    df['relevant_sale_amount'] = pd.Series(relevant_sale_amounts)\n",
    "    return df\n"
   ]
  },
  {
   "cell_type": "code",
   "execution_count": 174,
   "metadata": {},
   "outputs": [],
   "source": [
    "# Obtain Attom API key from secure location\n",
    "with open(\"/Users/tylerpreston/bin/config/attom_key.conf\", 'r') as f:\n",
    "    key = f.readline().strip()"
   ]
  },
  {
   "cell_type": "code",
   "execution_count": 246,
   "metadata": {},
   "outputs": [],
   "source": [
    "# Execute everything above:\n",
    "results = append_portfolio_sales_history(bv_data_test)\n",
    "results.head()"
   ]
  },
  {
   "cell_type": "code",
   "execution_count": null,
   "metadata": {},
   "outputs": [],
   "source": []
  },
  {
   "cell_type": "code",
   "execution_count": null,
   "metadata": {},
   "outputs": [],
   "source": []
  },
  {
   "cell_type": "code",
   "execution_count": null,
   "metadata": {},
   "outputs": [],
   "source": []
  }
 ],
 "metadata": {
  "kernelspec": {
   "display_name": "Python 3",
   "language": "python",
   "name": "python3"
  },
  "language_info": {
   "codemirror_mode": {
    "name": "ipython",
    "version": 3
   },
   "file_extension": ".py",
   "mimetype": "text/x-python",
   "name": "python",
   "nbconvert_exporter": "python",
   "pygments_lexer": "ipython3",
   "version": "3.7.0"
  }
 },
 "nbformat": 4,
 "nbformat_minor": 2
}
