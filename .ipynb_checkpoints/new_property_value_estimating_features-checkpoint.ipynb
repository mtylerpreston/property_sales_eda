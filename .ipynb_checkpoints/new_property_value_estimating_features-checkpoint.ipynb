{
 "cells": [
  {
   "cell_type": "code",
   "execution_count": 75,
   "metadata": {},
   "outputs": [],
   "source": [
    "import os\n",
    "import json\n",
    "from bs4 import BeautifulSoup\n",
    "import matplotlib.pyplot as plt\n",
    "from selenium import webdriver\n",
    "from selenium.webdriver.common.keys import Keys\n",
    "from selenium.webdriver.common.action_chains import ActionChains\n",
    "import time\n",
    "import sys\n",
    "import numpy as np\n",
    "import pandas as pd\n",
    "import random"
   ]
  },
  {
   "cell_type": "markdown",
   "metadata": {},
   "source": [
    "# Intro should include your high level story\n",
    "1. How big is your population?\n",
    "2. How big is your sample?\n",
    "3. What are the features you have available?\n",
    "4. What are you predicting?"
   ]
  },
  {
   "cell_type": "code",
   "execution_count": 92,
   "metadata": {},
   "outputs": [],
   "source": [
    "#read in raw data\n",
    "bv_data = pd.read_csv('bv_property_features.csv')\n",
    "bv_data_test = bv_data.iloc[:30, :]"
   ]
  },
  {
   "cell_type": "code",
   "execution_count": 86,
   "metadata": {},
   "outputs": [],
   "source": [
    "# clean up duplicate addresses to only get oldest record to give us a better chance at a sale record\n",
    "addresses = bv_data.full_address.unique()\n",
    "first_30 = addresses[:29]"
   ]
  },
  {
   "cell_type": "code",
   "execution_count": null,
   "metadata": {},
   "outputs": [],
   "source": []
  },
  {
   "cell_type": "code",
   "execution_count": null,
   "metadata": {},
   "outputs": [],
   "source": []
  },
  {
   "cell_type": "code",
   "execution_count": null,
   "metadata": {},
   "outputs": [],
   "source": []
  },
  {
   "cell_type": "code",
   "execution_count": null,
   "metadata": {},
   "outputs": [],
   "source": []
  },
  {
   "cell_type": "code",
   "execution_count": null,
   "metadata": {},
   "outputs": [],
   "source": []
  },
  {
   "cell_type": "code",
   "execution_count": null,
   "metadata": {},
   "outputs": [],
   "source": []
  },
  {
   "cell_type": "code",
   "execution_count": null,
   "metadata": {},
   "outputs": [],
   "source": []
  },
  {
   "cell_type": "code",
   "execution_count": null,
   "metadata": {},
   "outputs": [],
   "source": []
  },
  {
   "cell_type": "code",
   "execution_count": null,
   "metadata": {},
   "outputs": [],
   "source": []
  },
  {
   "cell_type": "code",
   "execution_count": null,
   "metadata": {},
   "outputs": [],
   "source": []
  },
  {
   "cell_type": "markdown",
   "metadata": {},
   "source": [
    "## Scalable Scraping of Real Estate Page for Historical Estimate Data"
   ]
  },
  {
   "cell_type": "markdown",
   "metadata": {},
   "source": [
    "First we must instantiate our web driver so that we can automate the navigation and data entry  for our scraping script."
   ]
  },
  {
   "cell_type": "code",
   "execution_count": 22,
   "metadata": {},
   "outputs": [],
   "source": [
    "chromedriver = \"/Users/tylerpreston/bin/chromedriver\"  # path to the chromedriver executable\n",
    "chromedriver = os.path.expanduser(chromedriver)\n",
    "sys.path.append(chromedriver)\n",
    "driver = webdriver.Chrome(chromedriver)"
   ]
  },
  {
   "cell_type": "code",
   "execution_count": 23,
   "metadata": {},
   "outputs": [],
   "source": [
    "url = 'https://realtor.com'\n",
    "driver.get(url)"
   ]
  },
  {
   "cell_type": "markdown",
   "metadata": {},
   "source": [
    "We start proving our concept by providing a short list of properties for our script to scrape:"
   ]
  },
  {
   "cell_type": "code",
   "execution_count": 83,
   "metadata": {},
   "outputs": [],
   "source": [
    "addresses = first_30"
   ]
  },
  {
   "cell_type": "code",
   "execution_count": 25,
   "metadata": {},
   "outputs": [],
   "source": [
    "element = driver.find_element_by_id('rdc-main-search-nav-hero-input')"
   ]
  },
  {
   "cell_type": "code",
   "execution_count": 26,
   "metadata": {},
   "outputs": [],
   "source": [
    "search_string = address_list[0].lower()"
   ]
  },
  {
   "cell_type": "code",
   "execution_count": 27,
   "metadata": {},
   "outputs": [],
   "source": [
    "for letter in search_string:\n",
    "    element.send_keys(letter)\n",
    "    time.sleep(np.random.exponential() * .2)\n",
    "time.sleep(np.random.exponential() * .6)\n",
    "element.send_keys(Keys.RETURN)"
   ]
  },
  {
   "cell_type": "code",
   "execution_count": 28,
   "metadata": {},
   "outputs": [],
   "source": [
    "# pull page_source data with Beautiful Soup and save all scripts\n",
    "soup = BeautifulSoup(driver.page_source, 'html.parser')\n",
    "scripts = soup.find_all(\"script\")"
   ]
  },
  {
   "cell_type": "code",
   "execution_count": 29,
   "metadata": {},
   "outputs": [],
   "source": [
    "# Scripts are not organized/structured, so we are manually searching them for\n",
    "# the desired data\n",
    "estimate_dictionary = {}\n",
    "for script in scripts:\n",
    "    script = str(script)\n",
    "    if 'avm_trend' in script:\n",
    "        index = script.find('avm_trend')\n",
    "        script = script[index: len(script)]\n",
    "        start_index = script.find('{')\n",
    "        stop_index = script.find('}') + 1\n",
    "        estimate_dictionary[search_string] = json.loads(script[start_index:stop_index])['history']"
   ]
  },
  {
   "cell_type": "code",
   "execution_count": 30,
   "metadata": {},
   "outputs": [],
   "source": [
    "driver.back()"
   ]
  },
  {
   "cell_type": "code",
   "execution_count": 31,
   "metadata": {},
   "outputs": [],
   "source": [
    "element = driver.find_element_by_id('rdc-main-search-nav-hero-input')"
   ]
  },
  {
   "cell_type": "code",
   "execution_count": 32,
   "metadata": {},
   "outputs": [],
   "source": [
    "search_string = address_list[1].lower()\n",
    "\n",
    "for letter in search_string:\n",
    "    element.send_keys(letter)\n",
    "    time.sleep(np.random.exponential() * .2)\n",
    "time.sleep(np.random.exponential() * .6)\n",
    "element.send_keys(Keys.RETURN)"
   ]
  },
  {
   "cell_type": "code",
   "execution_count": null,
   "metadata": {},
   "outputs": [],
   "source": []
  },
  {
   "cell_type": "code",
   "execution_count": null,
   "metadata": {},
   "outputs": [],
   "source": []
  },
  {
   "cell_type": "code",
   "execution_count": null,
   "metadata": {},
   "outputs": [],
   "source": []
  },
  {
   "cell_type": "markdown",
   "metadata": {},
   "source": [
    "# Attom API for Easy Sales History"
   ]
  },
  {
   "cell_type": "code",
   "execution_count": null,
   "metadata": {},
   "outputs": [],
   "source": []
  },
  {
   "cell_type": "code",
   "execution_count": 206,
   "metadata": {},
   "outputs": [],
   "source": [
    "import os\n",
    "import json\n",
    "import matplotlib.pyplot as plt\n",
    "import numpy as np\n",
    "import pandas as pd\n",
    "import http.client\n",
    "import time\n",
    "\n",
    "\n",
    "def get_property_detail(street, city, state, postal, key):\n",
    "    address1 = ('%20').join(street.split())\n",
    "    address2 = ('%20').join([city, state, postal])\n",
    "    end_url = '/propertyapi/v1.0.0/property/detail?address1='\\\n",
    "        + address1 + \"&address2=\" + address2\n",
    "\n",
    "    conn.request(\"GET\", end_url, headers=headers)\n",
    "\n",
    "    res = conn.getresponse()\n",
    "    data = json.loads(res.read().decode('utf-8'))\n",
    "    return data\n",
    "\n",
    "\n",
    "def get_sales_history_by_address(street, city, state, postal, key):\n",
    "    address1 = ('%20').join(street.split())\n",
    "    address2 = ('%20').join((city + ' ' + state + ' ' + postal).split())\n",
    "    end_url = '/propertyapi/v1.0.0/saleshistory/detail?address1='\\\n",
    "        + address1 + \"&address2=\" + address2\n",
    "\n",
    "    conn.request(\"GET\", end_url, headers=headers)\n",
    "\n",
    "    res = conn.getresponse()\n",
    "    sales_data = json.loads(res.read().decode('utf-8'))\n",
    "    \n",
    "    if sales_data['status']['code'] == 0:\n",
    "        sales_data = sales_data['property'][0]['salehistory']\n",
    "    else:\n",
    "        sales_data = []\n",
    "    return sales_data\n",
    "\n",
    "\n",
    "def get_valid_sales(sales_data, date):\n",
    "    legit_sales = []\n",
    "    for sale in sales_data:\n",
    "        try:\n",
    "            sale_date = date_to_epoch(sale['amount']['salerecdate'])\n",
    "        except:\n",
    "            try:\n",
    "                sale_date = date_to_epoch(sale['saleTransDate'])\n",
    "            except:\n",
    "                continue\n",
    "        sale_amount = sale['amount']['saleamt']\n",
    "        if sale_date > date and sale_amount > 0:\n",
    "            legit_sales.append((sale_date, sale_amount))\n",
    "    return legit_sales\n",
    "\n",
    "def date_to_epoch(date):\n",
    "    if len(date) < 11:\n",
    "        pattern = '%Y-%m-%d'\n",
    "    else:\n",
    "        date = date[0:10]\n",
    "        pattern = '%Y-%m-%d'\n",
    "    return int(time.mktime(time.strptime(date, pattern)))\n"
   ]
  },
  {
   "cell_type": "code",
   "execution_count": 174,
   "metadata": {},
   "outputs": [],
   "source": [
    "# Obtain Attom API key from secure location\n",
    "with open(\"/Users/tylerpreston/bin/config/attom_key.conf\", 'r') as f:\n",
    "    key = f.readline().strip()"
   ]
  },
  {
   "cell_type": "code",
   "execution_count": 207,
   "metadata": {},
   "outputs": [],
   "source": [
    "# Set up connection to the Attom API\n",
    "conn = http.client.HTTPSConnection(\"search.onboard-apis.com\")\n",
    "\n",
    "headers = {\n",
    "    'accept': \"application/json\",\n",
    "    'apikey': key,\n",
    "}"
   ]
  },
  {
   "cell_type": "code",
   "execution_count": 201,
   "metadata": {},
   "outputs": [],
   "source": [
    "street = '2949 chestnut street'\n",
    "city = 'san francisco'\n",
    "state = 'ca'\n",
    "postal = '94608'"
   ]
  },
  {
   "cell_type": "code",
   "execution_count": 202,
   "metadata": {},
   "outputs": [],
   "source": [
    "data = get_sales_history_by_address(street, city, state, postal, key)\n",
    "conn.close()"
   ]
  },
  {
   "cell_type": "code",
   "execution_count": 180,
   "metadata": {},
   "outputs": [
    {
     "name": "stdout",
     "output_type": "stream",
     "text": [
      "[(1431673200, 560000), (1402470000, 230000)]\n"
     ]
    }
   ],
   "source": [
    "real_sales = get_valid_sales(data, 1223794800)\n",
    "print(real_sales)"
   ]
  },
  {
   "cell_type": "code",
   "execution_count": 204,
   "metadata": {},
   "outputs": [],
   "source": [
    "def append_portfolio_sales_history(df):\n",
    "\n",
    "    for label, row in df.iterrows():\n",
    "        street, city, state, postal = row.street, row.city, row.state, row.zip\n",
    "        date = date_to_epoch(row.roof_data_date)\n",
    "        sales_data = get_sales_history_by_address(street, city, state, postal, key)\n",
    "        valid_sales = get_valid_sales(sales_data, date)\n",
    "    return valid_sales"
   ]
  },
  {
   "cell_type": "code",
   "execution_count": 208,
   "metadata": {},
   "outputs": [
    {
     "name": "stdout",
     "output_type": "stream",
     "text": [
      "{'status': {'version': '1.0.0', 'code': 0, 'msg': 'SuccessWithResult', 'total': 1, 'page': 1, 'pagesize': 10}, 'property': [{'identifier': {'obPropId': 4053130706071, 'fips': '06071', 'apn': '0329121110000', 'apnOrig': '329121110000', 'attomId': 40531307}, 'lot': {'depth': 85, 'frontage': 140, 'lotnum': '20', 'lotsize1': 0.2576, 'lotsize2': 11220, 'pooltype': 'NONE'}, 'area': {'countrysecsubd': 'San Bernardino County', 'countyuse1': '0510', 'muncode': 'SB', 'munname': 'SAN BERNARDINO', 'subdname': 'ARROWHEAD WOODS TR 02', 'subdtractnum': '2', 'taxcodearea': '105017'}, 'address': {'country': 'US', 'countrySubd': 'CA', 'line1': '1050 BEAVER LN', 'line2': 'LAKE ARROWHEAD, CA 92352', 'locality': 'Lake Arrowhead', 'matchCode': 'ExaStr', 'oneLine': '1050 BEAVER LN, LAKE ARROWHEAD, CA 92352', 'postal1': '92352'}, 'location': {'accuracy': 'Street', 'elevation': 0.0, 'latitude': '34.268637', 'longitude': '-117.181608', 'distance': 0.0, 'geoid': 'CO06071, CS0691513, DB0632610, PL0639444, SB0000073115, SB0000073116, SB0000073118, ZI92352'}, 'summary': {'absenteeInd': 'ABSENTEE(MAIL AND SITUS NOT =)', 'propclass': 'Single Family Residence / Townhouse', 'propsubtype': 'RESIDENTIAL', 'proptype': 'SFR', 'yearbuilt': 1964, 'propLandUse': 'SFR', 'propIndicator': '10'}, 'utilities': {'heatingtype': 'FLOOR/WALL FURNACE'}, 'building': {'size': {'bldgsize': 1188, 'grosssize': 1188, 'grosssizeadjusted': 1188, 'groundfloorsize': 936, 'livingsize': 1188, 'sizeInd': 'LIVING SQFT ', 'universalsize': 1188}, 'rooms': {'bathfixtures': 0, 'baths1qtr': 0, 'baths3qtr': 0, 'bathscalc': 1.0, 'bathsfull': 0, 'bathshalf': 0, 'bathstotal': 1.0, 'beds': 2, 'roomsTotal': 4}, 'interior': {'bsmtsize': 0, 'fplccount': 1, 'fplcind': 'Y', 'fplctype': 'YES'}, 'construction': {'condition': 'AVERAGE', 'constructiontype': 'WOOD FRAME', 'frameType': 'WOOD', 'roofcover': 'WOOD SHAKE/SHINGLE'}, 'parking': {'prkgSize': 0}, 'summary': {'bldgsNum': 1, 'bldgType': 'TYPE UNKNOWN', 'imprType': 'RESIDENTIAL', 'levels': 2, 'mobileHomeInd': ' ', 'storyDesc': 'TYPE UNKNOWN', 'unitsCount': '1', 'yearbuilteffective': 1964}}, 'vintage': {'lastModified': '2018-1-27', 'pubDate': '2018-1-27'}, 'salehistory': [{'salesearchdate': '2012-4-25', 'saleTransDate': '2012-4-25', 'amount': {'saleamt': 285000, 'salerecdate': '2012-6-4', 'saledisclosuretype': 0, 'saledocnum': '0000219071', 'saletranstype': 'Resale'}, 'calculation': {'priceperbed': 142500, 'pricepersizeunit': 240}}, {'salesearchdate': '2010-1-5', 'saleTransDate': '2010-1-5', 'amount': {'saleamt': 0, 'salerecdate': '2010-1-12', 'saledisclosuretype': 0, 'saledocnum': '0000011807', 'saletranstype': 'Stand Alone Finance'}, 'calculation': {'priceperbed': 0, 'pricepersizeunit': 0}}, {'salesearchdate': '2010-1-5', 'saleTransDate': '2010-1-5', 'amount': {'saleamt': 0, 'salerecdate': '2010-1-19', 'saledisclosuretype': 0, 'saledocnum': '0000019121', 'saletranstype': 'Nominal - Non/Arms Length Sale'}, 'calculation': {'priceperbed': 0, 'pricepersizeunit': 0}}, {'salesearchdate': '2007-11-23', 'saleTransDate': '2007-11-23', 'amount': {'saleamt': 0, 'saledisclosuretype': 0, 'saledocnum': '0000669666', 'saletranstype': 'Stand Alone Finance'}, 'calculation': {'priceperbed': 0, 'pricepersizeunit': 0}}, {'salesearchdate': '2005-4-7', 'saleTransDate': '2005-4-7', 'amount': {'saleamt': 329000, 'salerecdate': '2005-5-12', 'saledisclosuretype': 0, 'saledocnum': '0000339036', 'saletranstype': 'Resale'}, 'calculation': {'priceperbed': 164500, 'pricepersizeunit': 277}}, {'salesearchdate': '2005-8-17', 'amount': {'saleamt': 0, 'salerecdate': '2005-8-17', 'saledisclosuretype': 0, 'saledocnum': '0000605668', 'saletranstype': 'Nominal - Non/Arms Length Sale'}, 'calculation': {'priceperbed': 0, 'pricepersizeunit': 0}}, {'amount': {'saleamt': 0, 'saledisclosuretype': 0, 'saledocnum': '0000328206', 'saletranstype': 'Stand Alone Finance'}, 'calculation': {'priceperbed': 0, 'pricepersizeunit': 0}}, {'amount': {'saleamt': 0, 'saledisclosuretype': 0, 'saledocnum': '0000589510', 'saletranstype': 'Stand Alone Finance'}, 'calculation': {'priceperbed': 0, 'pricepersizeunit': 0}}]}]}\n",
      "{'status': {'version': '1.0.0', 'code': 0, 'msg': 'SuccessWithResult', 'total': 1, 'page': 1, 'pagesize': 10}, 'property': [{'identifier': {'obPropId': 32340788026161, 'fips': '26161', 'apn': 'A 0105420054', 'apnOrig': 'A0105420054', 'attomId': 323407880}, 'lot': {'depth': 0, 'frontage': 0, 'lotsize1': 2.93, 'lotsize2': 127631, 'pooltype': 'NONE'}, 'area': {'countrysecsubd': 'Washtenaw County', 'countyuse1': '365', 'muncode': 'WA', 'munname': 'WASHTENAW', 'subdtractnum': '0'}, 'address': {'country': 'US', 'countrySubd': 'MI', 'line1': '9051 SALEM FARMS DR', 'line2': 'SOUTH LYON, MI 48178', 'locality': 'South Lyon', 'matchCode': 'ExaStr', 'oneLine': '9051 SALEM FARMS DR, SOUTH LYON, MI 48178', 'postal1': '48178', 'postal2': '9008', 'postal3': 'R010'}, 'location': {'accuracy': 'Street', 'elevation': 0.0, 'latitude': '42.418871', 'longitude': '-83.635055', 'distance': 0.0, 'geoid': 'CO26161, CS2671130, DB2632250, MT30001334, RS0000279993, SB0000094539, SB0000094541, SB0000094545, ZI48178'}, 'summary': {'absenteeInd': 'ABSENTEE(MAIL AND SITUS NOT =)', 'propclass': 'Vacant', 'propsubtype': 'RESIDENTIAL', 'proptype': 'RESIDENTIAL ACREAGE', 'yearbuilt': 0, 'propLandUse': 'RESIDENTIAL ACREAGE', 'propIndicator': '80'}, 'utilities': {}, 'building': {'size': {'bldgsize': 0, 'grosssize': 0, 'grosssizeadjusted': 0, 'groundfloorsize': 0, 'livingsize': 0, 'sizeInd': 'LIVING SQFT ', 'universalsize': 0}, 'rooms': {'bathfixtures': 0, 'baths1qtr': 0, 'baths3qtr': 0, 'bathscalc': 0.0, 'bathsfull': 0, 'bathshalf': 0, 'bathstotal': 0.0, 'beds': 0, 'roomsTotal': 0}, 'interior': {'bsmtsize': 0, 'fplccount': 0}, 'construction': {'frameType': 'TYPE UNKNOWN'}, 'parking': {'prkgSize': 0}, 'summary': {'bldgsNum': 0, 'bldgType': 'TYPE UNKNOWN', 'imprType': 'RESIDENTIAL', 'levels': 0, 'mobileHomeInd': ' ', 'storyDesc': 'TYPE UNKNOWN', 'unitsCount': '0', 'yearbuilteffective': 0}}, 'vintage': {'lastModified': '2018-3-5', 'pubDate': '2018-3-5'}, 'salehistory': [{'salesearchdate': '2016-7-15', 'saleTransDate': '2016-7-15', 'amount': {'saleamt': 0, 'salerecdate': '2016-7-20', 'saledisclosuretype': 0, 'saledocnum': '0006327393', 'saletranstype': 'Resale'}, 'calculation': {'priceperbed': 0, 'pricepersizeunit': 0}}]}]}\n",
      "{'status': {'version': '1.0.0', 'code': 211, 'msg': 'Success with results. Address positioning is approximate to the ZIP Code.', 'total': 1, 'page': 1, 'pagesize': 10}, 'property': [{'identifier': {'obPropId': 1861021606065, 'fips': '06065', 'apn': '307320011', 'apnOrig': '307320011', 'attomId': 18610216}, 'lot': {'depth': 0, 'frontage': 0, 'lotnum': '111', 'lotsize1': 0.98, 'lotsize2': 42689, 'pooltype': 'NONE'}, 'area': {'blockNum': '111', 'countrysecsubd': 'Riverside County', 'countyuse1': 'R01', 'muncode': 'RI', 'munname': 'RIVERSIDE', 'subdname': 'LAKEVIEW 05', 'subdtractnum': '0', 'taxcodearea': '83038'}, 'address': {'country': 'US', 'countrySubd': 'CA', 'line1': '28351 LAKEVIEW AVE', 'line2': 'NUEVO, CA 92567', 'locality': 'Nuevo', 'matchCode': 'ExaStr', 'oneLine': '28351 LAKEVIEW AVE, NUEVO, CA 92567', 'postal1': '92567'}, 'location': {'accuracy': 'Street', 'elevation': 0.0, 'latitude': '33.804063', 'longitude': '-117.144633', 'distance': 0.0, 'geoid': 'CO06065, CS0692450, DB0627780, DB0630210, MT30003692, ND0004440820, PL0652624, SB0000072792, SB0000072793, SB0000131535, SB0000131536, ZI92567'}, 'summary': {'propclass': 'Single Family Residence / Townhouse', 'propsubtype': 'RESIDENTIAL', 'proptype': 'SFR', 'yearbuilt': 1958, 'propLandUse': 'SFR', 'propIndicator': '10'}, 'utilities': {'coolingtype': 'AC.CENTRAL', 'energyType': 'AVAILABLE', 'heatingtype': 'CENTRAL'}, 'building': {'size': {'bldgsize': 2969, 'grosssize': 2969, 'grosssizeadjusted': 2969, 'groundfloorsize': 0, 'livingsize': 2969, 'sizeInd': 'LIVING SQFT ', 'universalsize': 2969}, 'rooms': {'bathfixtures': 0, 'baths1qtr': 0, 'baths3qtr': 2, 'bathscalc': 3.5, 'bathsfull': 2, 'bathshalf': 2, 'bathstotal': 4.0, 'beds': 5, 'roomsTotal': 0}, 'interior': {'bsmtsize': 0, 'fplccount': 0, 'fplcind': 'Y', 'fplctype': 'YES'}, 'construction': {'roofcover': 'COMPOSITION SHINGLE'}, 'parking': {'garagetype': 'ATTACHED GARAGE', 'prkgSize': 240, 'prkgSpaces': '0', 'prkgType': 'GARAGE - ATTACHED'}, 'summary': {'bldgsNum': 0, 'bldgType': 'TYPE UNKNOWN', 'imprType': 'RESIDENTIAL', 'levels': 1, 'mobileHomeInd': ' ', 'storyDesc': 'TYPE UNKNOWN', 'unitsCount': '1', 'yearbuilteffective': 0}}, 'vintage': {'lastModified': '2018-11-26', 'pubDate': '2018-11-26'}, 'salehistory': [{'salesearchdate': '2018-7-26', 'saleTransDate': '2018-7-26', 'amount': {'saleamt': 0, 'saledisclosuretype': 0, 'saledocnum': '0000325818', 'saletranstype': 'Stand Alone Finance'}, 'calculation': {'priceperbed': 0, 'pricepersizeunit': 0}}, {'salesearchdate': '2007-9-17', 'saleTransDate': '2007-9-17', 'amount': {'saleamt': 0, 'saledisclosuretype': 0, 'saledocnum': '0000604137', 'saletranstype': 'Stand Alone Finance'}, 'calculation': {'priceperbed': 0, 'pricepersizeunit': 0}}, {'salesearchdate': '2006-8-8', 'saleTransDate': '2006-8-8', 'amount': {'saleamt': 0, 'saledisclosuretype': 0, 'saledocnum': '0000606622', 'saletranstype': 'Stand Alone Finance'}, 'calculation': {'priceperbed': 0, 'pricepersizeunit': 0}}, {'salesearchdate': '2005-8-31', 'saleTransDate': '2005-8-31', 'amount': {'saleamt': 0, 'saledisclosuretype': 0, 'saledocnum': '0000743160', 'saletranstype': 'Stand Alone Finance'}, 'calculation': {'priceperbed': 0, 'pricepersizeunit': 0}}, {'salesearchdate': '2005-8-31', 'saleTransDate': '2005-8-31', 'amount': {'saleamt': 0, 'saledisclosuretype': 0, 'saledocnum': '0000743161', 'saletranstype': 'Stand Alone Finance'}, 'calculation': {'priceperbed': 0, 'pricepersizeunit': 0}}, {'salesearchdate': '2004-11-1', 'saleTransDate': '2004-11-1', 'amount': {'saleamt': 0, 'saledisclosuretype': 0, 'saledocnum': '0000892190', 'saletranstype': 'Stand Alone Finance'}, 'calculation': {'priceperbed': 0, 'pricepersizeunit': 0}}, {'amount': {'saleamt': 0, 'saledisclosuretype': 0, 'saledocnum': '0000456910', 'saletranstype': 'Stand Alone Finance'}, 'calculation': {'priceperbed': 0, 'pricepersizeunit': 0}}, {'amount': {'saleamt': 0, 'saledisclosuretype': 0, 'saledocnum': '0000033669', 'saletranstype': 'Stand Alone Finance'}, 'calculation': {'priceperbed': 0, 'pricepersizeunit': 0}}, {'amount': {'saleamt': 0, 'saledisclosuretype': 0, 'saledocnum': '0000132010', 'saletranstype': 'Stand Alone Finance'}, 'calculation': {'priceperbed': 0, 'pricepersizeunit': 0}}, {'amount': {'saleamt': 0, 'saledisclosuretype': 0, 'saledocnum': '0000003758', 'saletranstype': 'Stand Alone Finance'}, 'calculation': {'priceperbed': 0, 'pricepersizeunit': 0}}, {'amount': {'saleamt': 0, 'saledisclosuretype': 0, 'saledocnum': '0000479356', 'saletranstype': 'Stand Alone Finance'}, 'calculation': {'priceperbed': 0, 'pricepersizeunit': 0}}, {'amount': {'saleamt': 0, 'saledisclosuretype': 0, 'saledocnum': '0000415120', 'saletranstype': 'Stand Alone Finance'}, 'calculation': {'priceperbed': 0, 'pricepersizeunit': 0}}]}]}\n"
     ]
    },
    {
     "name": "stdout",
     "output_type": "stream",
     "text": [
      "{'status': {'version': '1.0.0', 'code': 212, 'msg': 'Success without results. No data available for this address.', 'total': 0, 'page': 1, 'pagesize': 10}, 'property': []}\n"
     ]
    },
    {
     "ename": "IndexError",
     "evalue": "list index out of range",
     "output_type": "error",
     "traceback": [
      "\u001b[0;31m---------------------------------------------------------------------------\u001b[0m",
      "\u001b[0;31mIndexError\u001b[0m                                Traceback (most recent call last)",
      "\u001b[0;32m<ipython-input-208-aa920ca5d10e>\u001b[0m in \u001b[0;36m<module>\u001b[0;34m\u001b[0m\n\u001b[0;32m----> 1\u001b[0;31m \u001b[0mappend_portfolio_sales_history\u001b[0m\u001b[0;34m(\u001b[0m\u001b[0mbv_data_test\u001b[0m\u001b[0;34m)\u001b[0m\u001b[0;34m\u001b[0m\u001b[0;34m\u001b[0m\u001b[0m\n\u001b[0m",
      "\u001b[0;32m<ipython-input-204-dce74651dd2d>\u001b[0m in \u001b[0;36mappend_portfolio_sales_history\u001b[0;34m(df)\u001b[0m\n\u001b[1;32m      4\u001b[0m         \u001b[0mstreet\u001b[0m\u001b[0;34m,\u001b[0m \u001b[0mcity\u001b[0m\u001b[0;34m,\u001b[0m \u001b[0mstate\u001b[0m\u001b[0;34m,\u001b[0m \u001b[0mpostal\u001b[0m \u001b[0;34m=\u001b[0m \u001b[0mrow\u001b[0m\u001b[0;34m.\u001b[0m\u001b[0mstreet\u001b[0m\u001b[0;34m,\u001b[0m \u001b[0mrow\u001b[0m\u001b[0;34m.\u001b[0m\u001b[0mcity\u001b[0m\u001b[0;34m,\u001b[0m \u001b[0mrow\u001b[0m\u001b[0;34m.\u001b[0m\u001b[0mstate\u001b[0m\u001b[0;34m,\u001b[0m \u001b[0mrow\u001b[0m\u001b[0;34m.\u001b[0m\u001b[0mzip\u001b[0m\u001b[0;34m\u001b[0m\u001b[0;34m\u001b[0m\u001b[0m\n\u001b[1;32m      5\u001b[0m         \u001b[0mdate\u001b[0m \u001b[0;34m=\u001b[0m \u001b[0mdate_to_epoch\u001b[0m\u001b[0;34m(\u001b[0m\u001b[0mrow\u001b[0m\u001b[0;34m.\u001b[0m\u001b[0mroof_data_date\u001b[0m\u001b[0;34m)\u001b[0m\u001b[0;34m\u001b[0m\u001b[0;34m\u001b[0m\u001b[0m\n\u001b[0;32m----> 6\u001b[0;31m         \u001b[0msales_data\u001b[0m \u001b[0;34m=\u001b[0m \u001b[0mget_sales_history_by_address\u001b[0m\u001b[0;34m(\u001b[0m\u001b[0mstreet\u001b[0m\u001b[0;34m,\u001b[0m \u001b[0mcity\u001b[0m\u001b[0;34m,\u001b[0m \u001b[0mstate\u001b[0m\u001b[0;34m,\u001b[0m \u001b[0mpostal\u001b[0m\u001b[0;34m,\u001b[0m \u001b[0mkey\u001b[0m\u001b[0;34m)\u001b[0m\u001b[0;34m\u001b[0m\u001b[0;34m\u001b[0m\u001b[0m\n\u001b[0m\u001b[1;32m      7\u001b[0m         \u001b[0mvalid_sales\u001b[0m \u001b[0;34m=\u001b[0m \u001b[0mget_valid_sales\u001b[0m\u001b[0;34m(\u001b[0m\u001b[0msales_data\u001b[0m\u001b[0;34m,\u001b[0m \u001b[0mdate\u001b[0m\u001b[0;34m)\u001b[0m\u001b[0;34m\u001b[0m\u001b[0;34m\u001b[0m\u001b[0m\n\u001b[1;32m      8\u001b[0m     \u001b[0;32mreturn\u001b[0m \u001b[0mvalid_sales\u001b[0m\u001b[0;34m\u001b[0m\u001b[0;34m\u001b[0m\u001b[0m\n",
      "\u001b[0;32m<ipython-input-206-66d7057d6f03>\u001b[0m in \u001b[0;36mget_sales_history_by_address\u001b[0;34m(street, city, state, postal, key)\u001b[0m\n\u001b[1;32m     36\u001b[0m     \u001b[0;32melse\u001b[0m\u001b[0;34m:\u001b[0m\u001b[0;34m\u001b[0m\u001b[0;34m\u001b[0m\u001b[0m\n\u001b[1;32m     37\u001b[0m         \u001b[0mprint\u001b[0m\u001b[0;34m(\u001b[0m\u001b[0msales_data\u001b[0m\u001b[0;34m)\u001b[0m\u001b[0;34m\u001b[0m\u001b[0;34m\u001b[0m\u001b[0m\n\u001b[0;32m---> 38\u001b[0;31m         \u001b[0msales_data\u001b[0m \u001b[0;34m=\u001b[0m \u001b[0msales_data\u001b[0m\u001b[0;34m[\u001b[0m\u001b[0;34m'property'\u001b[0m\u001b[0;34m]\u001b[0m\u001b[0;34m[\u001b[0m\u001b[0;36m0\u001b[0m\u001b[0;34m]\u001b[0m\u001b[0;34m[\u001b[0m\u001b[0;34m'salehistory'\u001b[0m\u001b[0;34m]\u001b[0m\u001b[0;34m\u001b[0m\u001b[0;34m\u001b[0m\u001b[0m\n\u001b[0m\u001b[1;32m     39\u001b[0m     \u001b[0;32mreturn\u001b[0m \u001b[0msales_data\u001b[0m\u001b[0;34m\u001b[0m\u001b[0;34m\u001b[0m\u001b[0m\n\u001b[1;32m     40\u001b[0m \u001b[0;34m\u001b[0m\u001b[0m\n",
      "\u001b[0;31mIndexError\u001b[0m: list index out of range"
     ]
    }
   ],
   "source": [
    "append_portfolio_sales_history(bv_data_test)"
   ]
  },
  {
   "cell_type": "code",
   "execution_count": null,
   "metadata": {},
   "outputs": [],
   "source": []
  },
  {
   "cell_type": "code",
   "execution_count": null,
   "metadata": {},
   "outputs": [],
   "source": []
  }
 ],
 "metadata": {
  "kernelspec": {
   "display_name": "Python 3",
   "language": "python",
   "name": "python3"
  },
  "language_info": {
   "codemirror_mode": {
    "name": "ipython",
    "version": 3
   },
   "file_extension": ".py",
   "mimetype": "text/x-python",
   "name": "python",
   "nbconvert_exporter": "python",
   "pygments_lexer": "ipython3",
   "version": "3.7.3"
  }
 },
 "nbformat": 4,
 "nbformat_minor": 2
}
