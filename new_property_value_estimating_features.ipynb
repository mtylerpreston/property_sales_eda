{
 "cells": [
  {
   "cell_type": "code",
   "execution_count": 5,
   "metadata": {},
   "outputs": [],
   "source": [
    "import os\n",
    "import json\n",
    "from bs4 import BeautifulSoup\n",
    "import matplotlib.pyplot as plt\n",
    "from selenium import webdriver\n",
    "from selenium.webdriver.common.keys import Keys\n",
    "from selenium.webdriver.common.action_chains import ActionChains\n",
    "import time\n",
    "import sys\n",
    "import numpy as np\n",
    "import pandas as pd\n",
    "import random\n",
    "import http.client"
   ]
  },
  {
   "cell_type": "markdown",
   "metadata": {},
   "source": [
    "# Intro should include your high level story\n",
    "1. How big is your population?\n",
    "2. How big is your sample?\n",
    "3. What are the features you have available?\n",
    "4. What are you predicting?"
   ]
  },
  {
   "cell_type": "code",
   "execution_count": 10,
   "metadata": {},
   "outputs": [],
   "source": [
    "#read in raw data\n",
    "bv_data = pd.read_csv('bv_property_features.csv')\n"
   ]
  },
  {
   "cell_type": "code",
   "execution_count": 12,
   "metadata": {},
   "outputs": [
    {
     "name": "stdout",
     "output_type": "stream",
     "text": [
      "<class 'pandas.core.frame.DataFrame'>\n",
      "RangeIndex: 28655 entries, 0 to 28654\n",
      "Data columns (total 10 columns):\n",
      "property_id        28655 non-null int64\n",
      "roof_data_date     28655 non-null object\n",
      "street             28648 non-null object\n",
      "city               28622 non-null object\n",
      "state              28655 non-null object\n",
      "zip                28654 non-null object\n",
      "full_address       28655 non-null object\n",
      "visual_score       28654 non-null float64\n",
      "detection_types    28655 non-null object\n",
      "detections         28655 non-null object\n",
      "dtypes: float64(1), int64(1), object(8)\n",
      "memory usage: 2.2+ MB\n"
     ]
    }
   ],
   "source": [
    "# Sort by date data was generated then remove records with duplicate addresses\n",
    "# Keep only the oldest record to give us a better chance at a relevant sale record\n",
    "bv_data.sort_values('roof_data_date', ascending = True, inplace = True)\n",
    "bv_data.drop_duplicates(subset = 'full_address', keep = 'first', inplace = True)\n",
    "bv_data.drop_duplicates(subset = 'zip', keep = 'first', inplace = True)\n",
    "bv_data.reset_index(inplace = True, drop = True)\n",
    "bv_data.info()"
   ]
  },
  {
   "cell_type": "code",
   "execution_count": 15,
   "metadata": {},
   "outputs": [
    {
     "name": "stdout",
     "output_type": "stream",
     "text": [
      "The Visual Score for these properties is distributed as follows:\n"
     ]
    },
    {
     "data": {
      "text/plain": [
       "count    28654.000000\n",
       "mean        82.821557\n",
       "std         19.632121\n",
       "min          0.058200\n",
       "25%         73.231950\n",
       "50%         89.584066\n",
       "75%         98.376623\n",
       "max         99.715704\n",
       "Name: visual_score, dtype: float64"
      ]
     },
     "execution_count": 15,
     "metadata": {},
     "output_type": "execute_result"
    }
   ],
   "source": [
    "print('The Visual Score for these properties is distributed as follows:')\n",
    "bv_data.visual_score.describe()"
   ]
  },
  {
   "cell_type": "code",
   "execution_count": 38,
   "metadata": {},
   "outputs": [
    {
     "data": {
      "text/plain": [
       "Text(0.5,1,'Visual Score Histogram')"
      ]
     },
     "execution_count": 38,
     "metadata": {},
     "output_type": "execute_result"
    },
    {
     "data": {
      "image/png": "[encoded data removed]",
      "text/plain": [
       "<Figure size 432x288 with 1 Axes>"
      ]
     },
     "metadata": {
      "needs_background": "light"
     },
     "output_type": "display_data"
    }
   ],
   "source": [
    "ax = bv_data.visual_score.hist(bins = 20, log = True, xlabelsize = 14, ylabelsize = 14)\n",
    "ax.set_xlabel('Visual Score Bin', fontsize = 14)\n",
    "ax.set_ylabel('Log of Number of Observations', fontsize = 14)\n",
    "ax.set_title('Visual Score Histogram', fontsize = 20)\n"
   ]
  },
  {
   "cell_type": "code",
   "execution_count": 307,
   "metadata": {},
   "outputs": [],
   "source": [
    "# Take a small sample for testing\n",
    "bv_data_test = bv_data.iloc[:100, :]"
   ]
  },
  {
   "cell_type": "code",
   "execution_count": 311,
   "metadata": {},
   "outputs": [],
   "source": [
    "bv_data.dropna(axis = 0, how = 'any', inplace = True)"
   ]
  },
  {
   "cell_type": "code",
   "execution_count": 326,
   "metadata": {},
   "outputs": [
    {
     "name": "stdout",
     "output_type": "stream",
     "text": [
      "Completed 0.79% of rows\n"
     ]
    }
   ],
   "source": [
    "row_counter = 600\n",
    "total_rows = 76000\n",
    "print('Completed {0:.2f}% of rows'.format(row_counter * 100 / total_rows))"
   ]
  },
  {
   "cell_type": "code",
   "execution_count": null,
   "metadata": {},
   "outputs": [],
   "source": []
  },
  {
   "cell_type": "code",
   "execution_count": null,
   "metadata": {},
   "outputs": [],
   "source": []
  },
  {
   "cell_type": "code",
   "execution_count": null,
   "metadata": {},
   "outputs": [],
   "source": []
  },
  {
   "cell_type": "code",
   "execution_count": null,
   "metadata": {},
   "outputs": [],
   "source": []
  },
  {
   "cell_type": "code",
   "execution_count": null,
   "metadata": {},
   "outputs": [],
   "source": []
  },
  {
   "cell_type": "code",
   "execution_count": null,
   "metadata": {},
   "outputs": [],
   "source": []
  },
  {
   "cell_type": "code",
   "execution_count": null,
   "metadata": {},
   "outputs": [],
   "source": []
  },
  {
   "cell_type": "code",
   "execution_count": null,
   "metadata": {},
   "outputs": [],
   "source": []
  },
  {
   "cell_type": "markdown",
   "metadata": {},
   "source": [
    "## Scalable Scraping of Real Estate Page for Historical Estimate Data"
   ]
  },
  {
   "cell_type": "markdown",
   "metadata": {},
   "source": [
    "First we must instantiate our web driver so that we can automate the navigation and data entry  for our scraping script."
   ]
  },
  {
   "cell_type": "code",
   "execution_count": 22,
   "metadata": {},
   "outputs": [],
   "source": [
    "chromedriver = \"/Users/tylerpreston/bin/chromedriver\"  # path to the chromedriver executable\n",
    "chromedriver = os.path.expanduser(chromedriver)\n",
    "sys.path.append(chromedriver)\n",
    "driver = webdriver.Chrome(chromedriver)"
   ]
  },
  {
   "cell_type": "code",
   "execution_count": 23,
   "metadata": {},
   "outputs": [],
   "source": [
    "url = 'https://realtor.com'\n",
    "driver.get(url)"
   ]
  },
  {
   "cell_type": "markdown",
   "metadata": {},
   "source": [
    "We start proving our concept by providing a short list of properties for our script to scrape:"
   ]
  },
  {
   "cell_type": "code",
   "execution_count": 83,
   "metadata": {},
   "outputs": [],
   "source": [
    "addresses = first_30"
   ]
  },
  {
   "cell_type": "code",
   "execution_count": 25,
   "metadata": {},
   "outputs": [],
   "source": [
    "element = driver.find_element_by_id('rdc-main-search-nav-hero-input')"
   ]
  },
  {
   "cell_type": "code",
   "execution_count": 26,
   "metadata": {},
   "outputs": [],
   "source": [
    "search_string = address_list[0].lower()"
   ]
  },
  {
   "cell_type": "code",
   "execution_count": 27,
   "metadata": {},
   "outputs": [],
   "source": [
    "for letter in search_string:\n",
    "    element.send_keys(letter)\n",
    "    time.sleep(np.random.exponential() * .2)\n",
    "time.sleep(np.random.exponential() * .6)\n",
    "element.send_keys(Keys.RETURN)"
   ]
  },
  {
   "cell_type": "code",
   "execution_count": 28,
   "metadata": {},
   "outputs": [],
   "source": [
    "# pull page_source data with Beautiful Soup and save all scripts\n",
    "soup = BeautifulSoup(driver.page_source, 'html.parser')\n",
    "scripts = soup.find_all(\"script\")"
   ]
  },
  {
   "cell_type": "code",
   "execution_count": 29,
   "metadata": {},
   "outputs": [],
   "source": [
    "# Scripts are not organized/structured, so we are manually searching them for\n",
    "# the desired data\n",
    "estimate_dictionary = {}\n",
    "for script in scripts:\n",
    "    script = str(script)\n",
    "    if 'avm_trend' in script:\n",
    "        index = script.find('avm_trend')\n",
    "        script = script[index: len(script)]\n",
    "        start_index = script.find('{')\n",
    "        stop_index = script.find('}') + 1\n",
    "        estimate_dictionary[search_string] = json.loads(script[start_index:stop_index])['history']"
   ]
  },
  {
   "cell_type": "code",
   "execution_count": 30,
   "metadata": {},
   "outputs": [],
   "source": [
    "driver.back()"
   ]
  },
  {
   "cell_type": "code",
   "execution_count": 31,
   "metadata": {},
   "outputs": [],
   "source": [
    "element = driver.find_element_by_id('rdc-main-search-nav-hero-input')"
   ]
  },
  {
   "cell_type": "code",
   "execution_count": 32,
   "metadata": {},
   "outputs": [],
   "source": [
    "search_string = address_list[1].lower()\n",
    "\n",
    "for letter in search_string:\n",
    "    element.send_keys(letter)\n",
    "    time.sleep(np.random.exponential() * .2)\n",
    "time.sleep(np.random.exponential() * .6)\n",
    "element.send_keys(Keys.RETURN)"
   ]
  },
  {
   "cell_type": "code",
   "execution_count": null,
   "metadata": {},
   "outputs": [],
   "source": []
  },
  {
   "cell_type": "code",
   "execution_count": null,
   "metadata": {},
   "outputs": [],
   "source": []
  },
  {
   "cell_type": "code",
   "execution_count": null,
   "metadata": {},
   "outputs": [],
   "source": []
  },
  {
   "cell_type": "markdown",
   "metadata": {},
   "source": [
    "# Attom API for Easy Sales History"
   ]
  },
  {
   "cell_type": "code",
   "execution_count": 293,
   "metadata": {},
   "outputs": [],
   "source": [
    "def get_property_detail(street, city, state, postal, key):\n",
    "    address1 = ('%20').join(street.split())\n",
    "    address2 = ('%20').join([city, state, postal])\n",
    "    end_url = '/propertyapi/v1.0.0/property/detail?address1='\\\n",
    "        + address1 + \"&address2=\" + address2\n",
    "\n",
    "    conn.request(\"GET\", end_url, headers=headers)\n",
    "\n",
    "    res = conn.getresponse()\n",
    "    data = json.loads(res.read().decode('utf-8'))\n",
    "    return data\n",
    "\n",
    "\n",
    "def get_sales_history_by_address(street, city, state, postal, key):\n",
    "    address1 = ('%20').join(street.split())\n",
    "    address2 = ('%20').join((city + ' ' + state + ' ' + postal).split())\n",
    "    end_url = '/propertyapi/v1.0.0/saleshistory/detail?address1='\\\n",
    "        + address1 + \"&address2=\" + address2\n",
    "\n",
    "    conn.request(\"GET\", end_url, headers=headers)\n",
    "\n",
    "    res = conn.getresponse()\n",
    "    sales_data = json.loads(res.read().decode('utf-8'))\n",
    "    \n",
    "    if sales_data['status']['code'] == 0:\n",
    "        sales_data = sales_data['property'][0]['salehistory']\n",
    "    else:\n",
    "        sales_data = []\n",
    "    return sales_data\n",
    "\n",
    "\n",
    "def get_relevant_sale(sales_data, date):\n",
    "    for sale in sales_data:\n",
    "        try:\n",
    "            sale_date = date_to_epoch(sale['amount']['salerecdate'])\n",
    "        except:\n",
    "            try:\n",
    "                sale_date = date_to_epoch(sale['saleTransDate'])\n",
    "            except:\n",
    "                continue\n",
    "        sale_amount = sale['amount']['saleamt']\n",
    "        if sale_date > date and sale_amount > 0:\n",
    "            return (sale_date, sale_amount)\n",
    "    return ('null', 'null')\n",
    "\n",
    "def date_to_epoch(date):\n",
    "    if len(date) < 11:\n",
    "        pattern = '%Y-%m-%d'\n",
    "    else:\n",
    "        date = date[0:10]\n",
    "        pattern = '%Y-%m-%d'\n",
    "    return int(time.mktime(time.strptime(date, pattern)))\n",
    "\n",
    "def append_portfolio_sales_history(df):\n",
    "    # Set up connection to the Attom API\n",
    "    conn = http.client.HTTPSConnection(\"search.onboard-apis.com\")\n",
    "\n",
    "    headers = {\n",
    "        'accept': \"application/json\",\n",
    "        'apikey': key\n",
    "    }\n",
    "    \n",
    "    # Iterate through rows of Betterview data to append relevant sales data\n",
    "    relevant_sale_dates = []\n",
    "    relevant_sale_amounts = []\n",
    "    for label, row in df.iterrows():\n",
    "        street, city, state, postal = row.street, row.city, row.state, row.zip\n",
    "        date = date_to_epoch(row.roof_data_date)\n",
    "        sales_data = get_sales_history_by_address(street, city, state, postal, key)\n",
    "        relevant_sale = get_relevant_sale(sales_data, date)\n",
    "        relevant_sale_dates.append(relevant_sale[0])\n",
    "        relevant_sale_amounts.append(relevant_sale[1])\n",
    "        time.sleep(.2)\n",
    "   \n",
    "    conn.close()    \n",
    "        \n",
    "    df['relevant_sale_date'] = pd.Series(relevant_sale_dates)\n",
    "    df['relevant_sale_amount'] = pd.Series(relevant_sale_amounts)\n",
    "    return df\n"
   ]
  },
  {
   "cell_type": "code",
   "execution_count": 174,
   "metadata": {},
   "outputs": [],
   "source": [
    "# Obtain Attom API key from secure location\n",
    "with open(\"/Users/tylerpreston/bin/config/attom_key.conf\", 'r') as f:\n",
    "    key = f.readline().strip()"
   ]
  },
  {
   "cell_type": "code",
   "execution_count": 246,
   "metadata": {},
   "outputs": [],
   "source": [
    "# Execute everything above:\n",
    "results = append_portfolio_sales_history(bv_data_test)\n",
    "results.head()"
   ]
  },
  {
   "cell_type": "code",
   "execution_count": null,
   "metadata": {},
   "outputs": [],
   "source": []
  },
  {
   "cell_type": "code",
   "execution_count": null,
   "metadata": {},
   "outputs": [],
   "source": []
  },
  {
   "cell_type": "code",
   "execution_count": null,
   "metadata": {},
   "outputs": [],
   "source": []
  }
 ],
 "metadata": {
  "kernelspec": {
   "display_name": "Python 3",
   "language": "python",
   "name": "python3"
  },
  "language_info": {
   "codemirror_mode": {
    "name": "ipython",
    "version": 3
   },
   "file_extension": ".py",
   "mimetype": "text/x-python",
   "name": "python",
   "nbconvert_exporter": "python",
   "pygments_lexer": "ipython3",
   "version": "3.7.0"
  }
 },
 "nbformat": 4,
 "nbformat_minor": 2
}
